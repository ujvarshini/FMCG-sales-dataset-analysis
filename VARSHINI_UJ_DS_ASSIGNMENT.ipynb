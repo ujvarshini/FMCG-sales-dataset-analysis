{
 "cells": [
  {
   "cell_type": "code",
   "execution_count": 4,
   "id": "964cdd65",
   "metadata": {},
   "outputs": [],
   "source": [
    "#import the libraries\n",
    "import pandas as pd\n",
    "import numpy as np\n",
    "import matplotlib.pyplot as plt\n",
    "import seaborn as sns\n",
    "%matplotlib inline"
   ]
  },
  {
   "cell_type": "code",
   "execution_count": 5,
   "id": "333dde99",
   "metadata": {},
   "outputs": [],
   "source": [
    "#Load the dataset\n",
    "df = pd.read_excel(\"FMCG_Sales_Customer_2024.xlsx\")"
   ]
  },
  {
   "cell_type": "code",
   "execution_count": 6,
   "id": "572e565c",
   "metadata": {},
   "outputs": [
    {
     "data": {
      "text/plain": [
       "Index(['Invoice_ID', 'Invoice_Date', 'Customer_ID', 'Customer_Segment',\n",
       "       'Region', 'Product_ID', 'Product_Category', 'Brand', 'Price_per_Unit',\n",
       "       'Units_Sold', 'Promotion_Offer', 'Promotion_Type', 'Distributor_ID',\n",
       "       'Return_Requested', 'Customer_Satisfaction', 'Shelf_Life',\n",
       "       'Total_Sales', 'Manufacture_Date', 'Expiry_Date'],\n",
       "      dtype='object')"
      ]
     },
     "execution_count": 6,
     "metadata": {},
     "output_type": "execute_result"
    }
   ],
   "source": [
    "# Listdown the columns\n",
    "df.columns"
   ]
  },
  {
   "cell_type": "code",
   "execution_count": 5,
   "id": "b6d38569",
   "metadata": {},
   "outputs": [
    {
     "name": "stdout",
     "output_type": "stream",
     "text": [
      "<class 'pandas.core.frame.DataFrame'>\n",
      "RangeIndex: 1000 entries, 0 to 999\n",
      "Data columns (total 19 columns):\n",
      " #   Column                 Non-Null Count  Dtype         \n",
      "---  ------                 --------------  -----         \n",
      " 0   Invoice_ID             1000 non-null   object        \n",
      " 1   Invoice_Date           1000 non-null   datetime64[ns]\n",
      " 2   Customer_ID            1000 non-null   object        \n",
      " 3   Customer_Segment       1000 non-null   object        \n",
      " 4   Region                 1000 non-null   object        \n",
      " 5   Product_ID             1000 non-null   object        \n",
      " 6   Product_Category       1000 non-null   object        \n",
      " 7   Brand                  1000 non-null   object        \n",
      " 8   Price_per_Unit         1000 non-null   float64       \n",
      " 9   Units_Sold             1000 non-null   int64         \n",
      " 10  Promotion_Offer        1000 non-null   object        \n",
      " 11  Promotion_Type         393 non-null    object        \n",
      " 12  Distributor_ID         1000 non-null   object        \n",
      " 13  Return_Requested       1000 non-null   object        \n",
      " 14  Customer_Satisfaction  722 non-null    float64       \n",
      " 15  Shelf_Life             1000 non-null   int64         \n",
      " 16  Total_Sales            1000 non-null   float64       \n",
      " 17  Manufacture_Date       1000 non-null   datetime64[ns]\n",
      " 18  Expiry_Date            1000 non-null   datetime64[ns]\n",
      "dtypes: datetime64[ns](3), float64(3), int64(2), object(11)\n",
      "memory usage: 148.6+ KB\n"
     ]
    }
   ],
   "source": [
    "#Understand the features and type of features\n",
    "df.info()"
   ]
  },
  {
   "cell_type": "markdown",
   "id": "243dde2d",
   "metadata": {},
   "source": [
    "Date Columns are Invoice_Date, Manufacture_Date, Expiry_Date\n",
    "\n",
    "Categorical Columns are Customer_Segment, Region, Product_Category, Brand, Promotion_Offer, Promotion_Type, Return_Requested.\n",
    "\n",
    "Numerical Columns: Price_per_Unit, Units_Sold, Total_Sales, Customer_Satisfaction, Shelf_Life"
   ]
  },
  {
   "cell_type": "code",
   "execution_count": 6,
   "id": "c2f9b740",
   "metadata": {},
   "outputs": [
    {
     "data": {
      "text/html": [
       "<div>\n",
       "<style scoped>\n",
       "    .dataframe tbody tr th:only-of-type {\n",
       "        vertical-align: middle;\n",
       "    }\n",
       "\n",
       "    .dataframe tbody tr th {\n",
       "        vertical-align: top;\n",
       "    }\n",
       "\n",
       "    .dataframe thead th {\n",
       "        text-align: right;\n",
       "    }\n",
       "</style>\n",
       "<table border=\"1\" class=\"dataframe\">\n",
       "  <thead>\n",
       "    <tr style=\"text-align: right;\">\n",
       "      <th></th>\n",
       "      <th>Invoice_Date</th>\n",
       "      <th>Price_per_Unit</th>\n",
       "      <th>Units_Sold</th>\n",
       "      <th>Customer_Satisfaction</th>\n",
       "      <th>Shelf_Life</th>\n",
       "      <th>Total_Sales</th>\n",
       "      <th>Manufacture_Date</th>\n",
       "      <th>Expiry_Date</th>\n",
       "    </tr>\n",
       "  </thead>\n",
       "  <tbody>\n",
       "    <tr>\n",
       "      <th>count</th>\n",
       "      <td>1000</td>\n",
       "      <td>1000.000000</td>\n",
       "      <td>1000.000000</td>\n",
       "      <td>722.000000</td>\n",
       "      <td>1000.000000</td>\n",
       "      <td>1000.00000</td>\n",
       "      <td>1000</td>\n",
       "      <td>1000</td>\n",
       "    </tr>\n",
       "    <tr>\n",
       "      <th>mean</th>\n",
       "      <td>2023-07-02 13:30:43.200000256</td>\n",
       "      <td>250.225590</td>\n",
       "      <td>98.483000</td>\n",
       "      <td>2.922438</td>\n",
       "      <td>424.969000</td>\n",
       "      <td>24517.65228</td>\n",
       "      <td>2023-06-02 12:47:31.200000</td>\n",
       "      <td>2024-07-31 12:02:52.799999744</td>\n",
       "    </tr>\n",
       "    <tr>\n",
       "      <th>min</th>\n",
       "      <td>2023-01-01 00:00:00</td>\n",
       "      <td>12.270000</td>\n",
       "      <td>1.000000</td>\n",
       "      <td>1.000000</td>\n",
       "      <td>90.000000</td>\n",
       "      <td>103.14000</td>\n",
       "      <td>2022-11-09 00:00:00</td>\n",
       "      <td>2023-02-22 00:00:00</td>\n",
       "    </tr>\n",
       "    <tr>\n",
       "      <th>25%</th>\n",
       "      <td>2023-04-08 00:00:00</td>\n",
       "      <td>125.625000</td>\n",
       "      <td>46.750000</td>\n",
       "      <td>2.000000</td>\n",
       "      <td>267.750000</td>\n",
       "      <td>6630.67000</td>\n",
       "      <td>2023-03-05 00:00:00</td>\n",
       "      <td>2024-02-08 00:00:00</td>\n",
       "    </tr>\n",
       "    <tr>\n",
       "      <th>50%</th>\n",
       "      <td>2023-06-29 00:00:00</td>\n",
       "      <td>253.435000</td>\n",
       "      <td>98.000000</td>\n",
       "      <td>3.000000</td>\n",
       "      <td>437.000000</td>\n",
       "      <td>18232.04000</td>\n",
       "      <td>2023-05-27 00:00:00</td>\n",
       "      <td>2024-08-11 00:00:00</td>\n",
       "    </tr>\n",
       "    <tr>\n",
       "      <th>75%</th>\n",
       "      <td>2023-10-04 00:00:00</td>\n",
       "      <td>374.715000</td>\n",
       "      <td>150.000000</td>\n",
       "      <td>4.000000</td>\n",
       "      <td>582.250000</td>\n",
       "      <td>36242.91750</td>\n",
       "      <td>2023-09-02 06:00:00</td>\n",
       "      <td>2025-01-09 12:00:00</td>\n",
       "    </tr>\n",
       "    <tr>\n",
       "      <th>max</th>\n",
       "      <td>2023-12-31 00:00:00</td>\n",
       "      <td>499.860000</td>\n",
       "      <td>199.000000</td>\n",
       "      <td>5.000000</td>\n",
       "      <td>729.000000</td>\n",
       "      <td>95752.58000</td>\n",
       "      <td>2023-12-21 00:00:00</td>\n",
       "      <td>2025-11-29 00:00:00</td>\n",
       "    </tr>\n",
       "    <tr>\n",
       "      <th>std</th>\n",
       "      <td>NaN</td>\n",
       "      <td>143.147463</td>\n",
       "      <td>58.573907</td>\n",
       "      <td>1.417963</td>\n",
       "      <td>184.023664</td>\n",
       "      <td>21661.82293</td>\n",
       "      <td>NaN</td>\n",
       "      <td>NaN</td>\n",
       "    </tr>\n",
       "  </tbody>\n",
       "</table>\n",
       "</div>"
      ],
      "text/plain": [
       "                        Invoice_Date  Price_per_Unit   Units_Sold  \\\n",
       "count                           1000     1000.000000  1000.000000   \n",
       "mean   2023-07-02 13:30:43.200000256      250.225590    98.483000   \n",
       "min              2023-01-01 00:00:00       12.270000     1.000000   \n",
       "25%              2023-04-08 00:00:00      125.625000    46.750000   \n",
       "50%              2023-06-29 00:00:00      253.435000    98.000000   \n",
       "75%              2023-10-04 00:00:00      374.715000   150.000000   \n",
       "max              2023-12-31 00:00:00      499.860000   199.000000   \n",
       "std                              NaN      143.147463    58.573907   \n",
       "\n",
       "       Customer_Satisfaction   Shelf_Life  Total_Sales  \\\n",
       "count             722.000000  1000.000000   1000.00000   \n",
       "mean                2.922438   424.969000  24517.65228   \n",
       "min                 1.000000    90.000000    103.14000   \n",
       "25%                 2.000000   267.750000   6630.67000   \n",
       "50%                 3.000000   437.000000  18232.04000   \n",
       "75%                 4.000000   582.250000  36242.91750   \n",
       "max                 5.000000   729.000000  95752.58000   \n",
       "std                 1.417963   184.023664  21661.82293   \n",
       "\n",
       "                 Manufacture_Date                    Expiry_Date  \n",
       "count                        1000                           1000  \n",
       "mean   2023-06-02 12:47:31.200000  2024-07-31 12:02:52.799999744  \n",
       "min           2022-11-09 00:00:00            2023-02-22 00:00:00  \n",
       "25%           2023-03-05 00:00:00            2024-02-08 00:00:00  \n",
       "50%           2023-05-27 00:00:00            2024-08-11 00:00:00  \n",
       "75%           2023-09-02 06:00:00            2025-01-09 12:00:00  \n",
       "max           2023-12-21 00:00:00            2025-11-29 00:00:00  \n",
       "std                           NaN                            NaN  "
      ]
     },
     "execution_count": 6,
     "metadata": {},
     "output_type": "execute_result"
    }
   ],
   "source": [
    "df.describe()"
   ]
  },
  {
   "cell_type": "markdown",
   "id": "900a907b",
   "metadata": {},
   "source": [
    "## Data Cleaning and preparation - handling missing values and outliers if any"
   ]
  },
  {
   "cell_type": "code",
   "execution_count": 7,
   "id": "13ff8320",
   "metadata": {},
   "outputs": [
    {
     "data": {
      "text/plain": [
       "Invoice_ID                 0\n",
       "Invoice_Date               0\n",
       "Customer_ID                0\n",
       "Customer_Segment           0\n",
       "Region                     0\n",
       "Product_ID                 0\n",
       "Product_Category           0\n",
       "Brand                      0\n",
       "Price_per_Unit             0\n",
       "Units_Sold                 0\n",
       "Promotion_Offer            0\n",
       "Promotion_Type           607\n",
       "Distributor_ID             0\n",
       "Return_Requested           0\n",
       "Customer_Satisfaction    278\n",
       "Shelf_Life                 0\n",
       "Total_Sales                0\n",
       "Manufacture_Date           0\n",
       "Expiry_Date                0\n",
       "dtype: int64"
      ]
     },
     "execution_count": 7,
     "metadata": {},
     "output_type": "execute_result"
    }
   ],
   "source": [
    "#check the null values\n",
    "df.isnull().sum()"
   ]
  },
  {
   "cell_type": "code",
   "execution_count": 9,
   "id": "d758b082",
   "metadata": {},
   "outputs": [],
   "source": [
    "## In the promotion type, the missing values might denote that there were no promotions\n",
    "df['Promotion_Type'].unique()\n",
    "\n",
    "df['Promotion_Type'] = df.apply(\n",
    "    lambda row: 'No Promotion' if (pd.isnull(row['Promotion_Type']) and row['Promotion_Offer'] == 'No') \n",
    "                else ('Other Promotion' if pd.isnull(row['Promotion_Type']) else row['Promotion_Type']),\n",
    "    axis=1\n",
    ")\n"
   ]
  },
  {
   "cell_type": "code",
   "execution_count": 9,
   "id": "31a69c02",
   "metadata": {},
   "outputs": [],
   "source": [
    "## In the customer satisfaction, there are 278 missing values \n",
    "df['Customer_Satisfaction'] = df.groupby('Customer_Segment')['Customer_Satisfaction'].transform(lambda x: x.fillna(x.mean()))"
   ]
  },
  {
   "cell_type": "code",
   "execution_count": 10,
   "id": "26b7c671",
   "metadata": {},
   "outputs": [],
   "source": [
    "# Feature engineering\n",
    "df['Invoice_Month'] = df['Invoice_Date'].dt.month\n",
    "df['Invoice_Weekday'] = df['Invoice_Date'].dt.day_name()\n",
    "df['Days_To_Expiry'] = (df['Expiry_Date'] - df['Manufacture_Date']).dt.days"
   ]
  },
  {
   "cell_type": "code",
   "execution_count": 11,
   "id": "4af45d39",
   "metadata": {},
   "outputs": [
    {
     "data": {
      "text/html": [
       "<div>\n",
       "<style scoped>\n",
       "    .dataframe tbody tr th:only-of-type {\n",
       "        vertical-align: middle;\n",
       "    }\n",
       "\n",
       "    .dataframe tbody tr th {\n",
       "        vertical-align: top;\n",
       "    }\n",
       "\n",
       "    .dataframe thead th {\n",
       "        text-align: right;\n",
       "    }\n",
       "</style>\n",
       "<table border=\"1\" class=\"dataframe\">\n",
       "  <thead>\n",
       "    <tr style=\"text-align: right;\">\n",
       "      <th></th>\n",
       "      <th>Invoice_ID</th>\n",
       "      <th>Invoice_Date</th>\n",
       "      <th>Customer_ID</th>\n",
       "      <th>Customer_Segment</th>\n",
       "      <th>Region</th>\n",
       "      <th>Product_ID</th>\n",
       "      <th>Product_Category</th>\n",
       "      <th>Brand</th>\n",
       "      <th>Price_per_Unit</th>\n",
       "      <th>Units_Sold</th>\n",
       "      <th>...</th>\n",
       "      <th>Distributor_ID</th>\n",
       "      <th>Return_Requested</th>\n",
       "      <th>Customer_Satisfaction</th>\n",
       "      <th>Shelf_Life</th>\n",
       "      <th>Total_Sales</th>\n",
       "      <th>Manufacture_Date</th>\n",
       "      <th>Expiry_Date</th>\n",
       "      <th>Invoice_Month</th>\n",
       "      <th>Invoice_Weekday</th>\n",
       "      <th>Days_To_Expiry</th>\n",
       "    </tr>\n",
       "  </thead>\n",
       "  <tbody>\n",
       "    <tr>\n",
       "      <th>0</th>\n",
       "      <td>INV100000</td>\n",
       "      <td>2023-11-24</td>\n",
       "      <td>CUST1557</td>\n",
       "      <td>Consumer</td>\n",
       "      <td>South</td>\n",
       "      <td>PROD745</td>\n",
       "      <td>Home Care</td>\n",
       "      <td>SipUp</td>\n",
       "      <td>193.52</td>\n",
       "      <td>47</td>\n",
       "      <td>...</td>\n",
       "      <td>DIST127</td>\n",
       "      <td>No</td>\n",
       "      <td>1.000000</td>\n",
       "      <td>631</td>\n",
       "      <td>9095.44</td>\n",
       "      <td>2023-10-22</td>\n",
       "      <td>2025-07-14</td>\n",
       "      <td>11</td>\n",
       "      <td>Friday</td>\n",
       "      <td>631</td>\n",
       "    </tr>\n",
       "    <tr>\n",
       "      <th>1</th>\n",
       "      <td>INV100001</td>\n",
       "      <td>2023-02-27</td>\n",
       "      <td>CUST1230</td>\n",
       "      <td>Retailer</td>\n",
       "      <td>North</td>\n",
       "      <td>PROD921</td>\n",
       "      <td>Home Care</td>\n",
       "      <td>Glorix</td>\n",
       "      <td>475.85</td>\n",
       "      <td>12</td>\n",
       "      <td>...</td>\n",
       "      <td>DIST126</td>\n",
       "      <td>No</td>\n",
       "      <td>1.000000</td>\n",
       "      <td>326</td>\n",
       "      <td>5710.20</td>\n",
       "      <td>2023-01-27</td>\n",
       "      <td>2023-12-19</td>\n",
       "      <td>2</td>\n",
       "      <td>Monday</td>\n",
       "      <td>326</td>\n",
       "    </tr>\n",
       "    <tr>\n",
       "      <th>2</th>\n",
       "      <td>INV100002</td>\n",
       "      <td>2023-01-13</td>\n",
       "      <td>CUST1663</td>\n",
       "      <td>Retailer</td>\n",
       "      <td>North</td>\n",
       "      <td>PROD656</td>\n",
       "      <td>Home Care</td>\n",
       "      <td>CleanEdge</td>\n",
       "      <td>368.68</td>\n",
       "      <td>62</td>\n",
       "      <td>...</td>\n",
       "      <td>DIST117</td>\n",
       "      <td>No</td>\n",
       "      <td>5.000000</td>\n",
       "      <td>368</td>\n",
       "      <td>22858.16</td>\n",
       "      <td>2022-11-30</td>\n",
       "      <td>2023-12-03</td>\n",
       "      <td>1</td>\n",
       "      <td>Friday</td>\n",
       "      <td>368</td>\n",
       "    </tr>\n",
       "    <tr>\n",
       "      <th>3</th>\n",
       "      <td>INV100003</td>\n",
       "      <td>2023-05-21</td>\n",
       "      <td>CUST1152</td>\n",
       "      <td>Wholesaler</td>\n",
       "      <td>West</td>\n",
       "      <td>PROD913</td>\n",
       "      <td>Personal Care</td>\n",
       "      <td>FreshMint</td>\n",
       "      <td>303.34</td>\n",
       "      <td>80</td>\n",
       "      <td>...</td>\n",
       "      <td>DIST107</td>\n",
       "      <td>No</td>\n",
       "      <td>2.888889</td>\n",
       "      <td>437</td>\n",
       "      <td>24267.20</td>\n",
       "      <td>2023-04-01</td>\n",
       "      <td>2024-06-11</td>\n",
       "      <td>5</td>\n",
       "      <td>Sunday</td>\n",
       "      <td>437</td>\n",
       "    </tr>\n",
       "    <tr>\n",
       "      <th>4</th>\n",
       "      <td>INV100004</td>\n",
       "      <td>2023-05-06</td>\n",
       "      <td>CUST1930</td>\n",
       "      <td>Wholesaler</td>\n",
       "      <td>East</td>\n",
       "      <td>PROD119</td>\n",
       "      <td>Home Care</td>\n",
       "      <td>SipUp</td>\n",
       "      <td>86.45</td>\n",
       "      <td>83</td>\n",
       "      <td>...</td>\n",
       "      <td>DIST143</td>\n",
       "      <td>No</td>\n",
       "      <td>2.888889</td>\n",
       "      <td>716</td>\n",
       "      <td>7175.35</td>\n",
       "      <td>2023-03-10</td>\n",
       "      <td>2025-02-23</td>\n",
       "      <td>5</td>\n",
       "      <td>Saturday</td>\n",
       "      <td>716</td>\n",
       "    </tr>\n",
       "  </tbody>\n",
       "</table>\n",
       "<p>5 rows × 22 columns</p>\n",
       "</div>"
      ],
      "text/plain": [
       "  Invoice_ID Invoice_Date Customer_ID Customer_Segment Region Product_ID  \\\n",
       "0  INV100000   2023-11-24    CUST1557         Consumer  South    PROD745   \n",
       "1  INV100001   2023-02-27    CUST1230         Retailer  North    PROD921   \n",
       "2  INV100002   2023-01-13    CUST1663         Retailer  North    PROD656   \n",
       "3  INV100003   2023-05-21    CUST1152       Wholesaler   West    PROD913   \n",
       "4  INV100004   2023-05-06    CUST1930       Wholesaler   East    PROD119   \n",
       "\n",
       "  Product_Category      Brand  Price_per_Unit  Units_Sold  ... Distributor_ID  \\\n",
       "0        Home Care      SipUp          193.52          47  ...        DIST127   \n",
       "1        Home Care     Glorix          475.85          12  ...        DIST126   \n",
       "2        Home Care  CleanEdge          368.68          62  ...        DIST117   \n",
       "3    Personal Care  FreshMint          303.34          80  ...        DIST107   \n",
       "4        Home Care      SipUp           86.45          83  ...        DIST143   \n",
       "\n",
       "  Return_Requested Customer_Satisfaction Shelf_Life  Total_Sales  \\\n",
       "0               No              1.000000        631      9095.44   \n",
       "1               No              1.000000        326      5710.20   \n",
       "2               No              5.000000        368     22858.16   \n",
       "3               No              2.888889        437     24267.20   \n",
       "4               No              2.888889        716      7175.35   \n",
       "\n",
       "   Manufacture_Date  Expiry_Date Invoice_Month Invoice_Weekday  Days_To_Expiry  \n",
       "0        2023-10-22   2025-07-14            11          Friday             631  \n",
       "1        2023-01-27   2023-12-19             2          Monday             326  \n",
       "2        2022-11-30   2023-12-03             1          Friday             368  \n",
       "3        2023-04-01   2024-06-11             5          Sunday             437  \n",
       "4        2023-03-10   2025-02-23             5        Saturday             716  \n",
       "\n",
       "[5 rows x 22 columns]"
      ]
     },
     "execution_count": 11,
     "metadata": {},
     "output_type": "execute_result"
    }
   ],
   "source": [
    "df.head()"
   ]
  },
  {
   "cell_type": "code",
   "execution_count": 12,
   "id": "9f94b862",
   "metadata": {},
   "outputs": [
    {
     "data": {
      "text/html": [
       "<div>\n",
       "<style scoped>\n",
       "    .dataframe tbody tr th:only-of-type {\n",
       "        vertical-align: middle;\n",
       "    }\n",
       "\n",
       "    .dataframe tbody tr th {\n",
       "        vertical-align: top;\n",
       "    }\n",
       "\n",
       "    .dataframe thead th {\n",
       "        text-align: right;\n",
       "    }\n",
       "</style>\n",
       "<table border=\"1\" class=\"dataframe\">\n",
       "  <thead>\n",
       "    <tr style=\"text-align: right;\">\n",
       "      <th></th>\n",
       "      <th>Invoice_ID</th>\n",
       "      <th>Invoice_Date</th>\n",
       "      <th>Customer_Segment</th>\n",
       "      <th>Region</th>\n",
       "      <th>Product_ID</th>\n",
       "      <th>Product_Category</th>\n",
       "      <th>Brand</th>\n",
       "      <th>Price_per_Unit</th>\n",
       "      <th>Units_Sold</th>\n",
       "      <th>Promotion_Offer</th>\n",
       "      <th>...</th>\n",
       "      <th>Distributor_ID</th>\n",
       "      <th>Return_Requested</th>\n",
       "      <th>Customer_Satisfaction</th>\n",
       "      <th>Shelf_Life</th>\n",
       "      <th>Total_Sales</th>\n",
       "      <th>Manufacture_Date</th>\n",
       "      <th>Expiry_Date</th>\n",
       "      <th>Invoice_Month</th>\n",
       "      <th>Invoice_Weekday</th>\n",
       "      <th>Days_To_Expiry</th>\n",
       "    </tr>\n",
       "  </thead>\n",
       "  <tbody>\n",
       "    <tr>\n",
       "      <th>0</th>\n",
       "      <td>INV100000</td>\n",
       "      <td>2023-11-24</td>\n",
       "      <td>Consumer</td>\n",
       "      <td>South</td>\n",
       "      <td>PROD745</td>\n",
       "      <td>Home Care</td>\n",
       "      <td>SipUp</td>\n",
       "      <td>193.52</td>\n",
       "      <td>47</td>\n",
       "      <td>No</td>\n",
       "      <td>...</td>\n",
       "      <td>DIST127</td>\n",
       "      <td>No</td>\n",
       "      <td>1.000000</td>\n",
       "      <td>631</td>\n",
       "      <td>9095.44</td>\n",
       "      <td>2023-10-22</td>\n",
       "      <td>2025-07-14</td>\n",
       "      <td>11</td>\n",
       "      <td>Friday</td>\n",
       "      <td>631</td>\n",
       "    </tr>\n",
       "    <tr>\n",
       "      <th>1</th>\n",
       "      <td>INV100001</td>\n",
       "      <td>2023-02-27</td>\n",
       "      <td>Retailer</td>\n",
       "      <td>North</td>\n",
       "      <td>PROD921</td>\n",
       "      <td>Home Care</td>\n",
       "      <td>Glorix</td>\n",
       "      <td>475.85</td>\n",
       "      <td>12</td>\n",
       "      <td>No</td>\n",
       "      <td>...</td>\n",
       "      <td>DIST126</td>\n",
       "      <td>No</td>\n",
       "      <td>1.000000</td>\n",
       "      <td>326</td>\n",
       "      <td>5710.20</td>\n",
       "      <td>2023-01-27</td>\n",
       "      <td>2023-12-19</td>\n",
       "      <td>2</td>\n",
       "      <td>Monday</td>\n",
       "      <td>326</td>\n",
       "    </tr>\n",
       "    <tr>\n",
       "      <th>2</th>\n",
       "      <td>INV100002</td>\n",
       "      <td>2023-01-13</td>\n",
       "      <td>Retailer</td>\n",
       "      <td>North</td>\n",
       "      <td>PROD656</td>\n",
       "      <td>Home Care</td>\n",
       "      <td>CleanEdge</td>\n",
       "      <td>368.68</td>\n",
       "      <td>62</td>\n",
       "      <td>No</td>\n",
       "      <td>...</td>\n",
       "      <td>DIST117</td>\n",
       "      <td>No</td>\n",
       "      <td>5.000000</td>\n",
       "      <td>368</td>\n",
       "      <td>22858.16</td>\n",
       "      <td>2022-11-30</td>\n",
       "      <td>2023-12-03</td>\n",
       "      <td>1</td>\n",
       "      <td>Friday</td>\n",
       "      <td>368</td>\n",
       "    </tr>\n",
       "    <tr>\n",
       "      <th>3</th>\n",
       "      <td>INV100003</td>\n",
       "      <td>2023-05-21</td>\n",
       "      <td>Wholesaler</td>\n",
       "      <td>West</td>\n",
       "      <td>PROD913</td>\n",
       "      <td>Personal Care</td>\n",
       "      <td>FreshMint</td>\n",
       "      <td>303.34</td>\n",
       "      <td>80</td>\n",
       "      <td>No</td>\n",
       "      <td>...</td>\n",
       "      <td>DIST107</td>\n",
       "      <td>No</td>\n",
       "      <td>2.888889</td>\n",
       "      <td>437</td>\n",
       "      <td>24267.20</td>\n",
       "      <td>2023-04-01</td>\n",
       "      <td>2024-06-11</td>\n",
       "      <td>5</td>\n",
       "      <td>Sunday</td>\n",
       "      <td>437</td>\n",
       "    </tr>\n",
       "    <tr>\n",
       "      <th>4</th>\n",
       "      <td>INV100004</td>\n",
       "      <td>2023-05-06</td>\n",
       "      <td>Wholesaler</td>\n",
       "      <td>East</td>\n",
       "      <td>PROD119</td>\n",
       "      <td>Home Care</td>\n",
       "      <td>SipUp</td>\n",
       "      <td>86.45</td>\n",
       "      <td>83</td>\n",
       "      <td>Yes</td>\n",
       "      <td>...</td>\n",
       "      <td>DIST143</td>\n",
       "      <td>No</td>\n",
       "      <td>2.888889</td>\n",
       "      <td>716</td>\n",
       "      <td>7175.35</td>\n",
       "      <td>2023-03-10</td>\n",
       "      <td>2025-02-23</td>\n",
       "      <td>5</td>\n",
       "      <td>Saturday</td>\n",
       "      <td>716</td>\n",
       "    </tr>\n",
       "  </tbody>\n",
       "</table>\n",
       "<p>5 rows × 21 columns</p>\n",
       "</div>"
      ],
      "text/plain": [
       "  Invoice_ID Invoice_Date Customer_Segment Region Product_ID Product_Category  \\\n",
       "0  INV100000   2023-11-24         Consumer  South    PROD745        Home Care   \n",
       "1  INV100001   2023-02-27         Retailer  North    PROD921        Home Care   \n",
       "2  INV100002   2023-01-13         Retailer  North    PROD656        Home Care   \n",
       "3  INV100003   2023-05-21       Wholesaler   West    PROD913    Personal Care   \n",
       "4  INV100004   2023-05-06       Wholesaler   East    PROD119        Home Care   \n",
       "\n",
       "       Brand  Price_per_Unit  Units_Sold Promotion_Offer  ... Distributor_ID  \\\n",
       "0      SipUp          193.52          47              No  ...        DIST127   \n",
       "1     Glorix          475.85          12              No  ...        DIST126   \n",
       "2  CleanEdge          368.68          62              No  ...        DIST117   \n",
       "3  FreshMint          303.34          80              No  ...        DIST107   \n",
       "4      SipUp           86.45          83             Yes  ...        DIST143   \n",
       "\n",
       "  Return_Requested Customer_Satisfaction  Shelf_Life  Total_Sales  \\\n",
       "0               No              1.000000         631      9095.44   \n",
       "1               No              1.000000         326      5710.20   \n",
       "2               No              5.000000         368     22858.16   \n",
       "3               No              2.888889         437     24267.20   \n",
       "4               No              2.888889         716      7175.35   \n",
       "\n",
       "   Manufacture_Date Expiry_Date Invoice_Month  Invoice_Weekday Days_To_Expiry  \n",
       "0        2023-10-22  2025-07-14            11           Friday            631  \n",
       "1        2023-01-27  2023-12-19             2           Monday            326  \n",
       "2        2022-11-30  2023-12-03             1           Friday            368  \n",
       "3        2023-04-01  2024-06-11             5           Sunday            437  \n",
       "4        2023-03-10  2025-02-23             5         Saturday            716  \n",
       "\n",
       "[5 rows x 21 columns]"
      ]
     },
     "execution_count": 12,
     "metadata": {},
     "output_type": "execute_result"
    }
   ],
   "source": [
    "#Drop redundant features\n",
    "df.drop(['Customer_ID'], axis = 1, inplace=True)\n",
    "df.head()"
   ]
  },
  {
   "cell_type": "markdown",
   "id": "10dd9b74",
   "metadata": {},
   "source": [
    "## EDA and visualization"
   ]
  },
  {
   "cell_type": "markdown",
   "id": "3edd7a5f",
   "metadata": {},
   "source": [
    "#### Total sales by region"
   ]
  },
  {
   "cell_type": "code",
   "execution_count": 4,
   "id": "dd61149e",
   "metadata": {},
   "outputs": [
    {
     "data": {
      "image/png": "[encoded data removed]",
      "text/plain": [
       "<Figure size 1000x800 with 2 Axes>"
      ]
     },
     "metadata": {},
     "output_type": "display_data"
    }
   ],
   "source": [
    "# MONTHLY SALES HEATMAP\n",
    "\n",
    "# Create Month column\n",
    "df['Month'] = df['Invoice_Date'].dt.month_name()\n",
    "\n",
    "# Pivot table\n",
    "monthly_region_sales = df.pivot_table(values='Total_Sales', index='Month', columns='Region', aggfunc='sum')\n",
    "\n",
    "# Fix month order\n",
    "from pandas.api.types import CategoricalDtype\n",
    "month_order = ['January', 'February', 'March', 'April', 'May', 'June', 'July',\n",
    "               'August', 'September', 'October', 'November', 'December']\n",
    "cat_month = CategoricalDtype(categories=month_order, ordered=True)\n",
    "monthly_region_sales.index = monthly_region_sales.index.astype(cat_month)\n",
    "monthly_region_sales = monthly_region_sales.sort_index()\n",
    "\n",
    "# Plot Heatmap\n",
    "plt.figure(figsize=(10,8))\n",
    "sns.heatmap(monthly_region_sales, cmap='YlGnBu', annot=True, fmt='.0f')\n",
    "plt.title('Monthly Sales by Region (Heatmap)', fontsize=16)\n",
    "plt.ylabel('Month')\n",
    "plt.xlabel('Region')\n",
    "plt.show()\n"
   ]
  },
  {
   "cell_type": "code",
   "execution_count": 13,
   "id": "ce913759",
   "metadata": {},
   "outputs": [
    {
     "name": "stderr",
     "output_type": "stream",
     "text": [
      "C:\\Users\\PC\\AppData\\Local\\Temp\\ipykernel_10112\\3494469046.py:1: FutureWarning: \n",
      "\n",
      "The `ci` parameter is deprecated. Use `errorbar=None` for the same effect.\n",
      "\n",
      "  sns.barplot(data=df, x='Region', y='Total_Sales', estimator=np.sum, ci=None)\n"
     ]
    },
    {
     "data": {
      "image/png": "[encoded data removed]",
      "text/plain": [
       "<Figure size 640x480 with 1 Axes>"
      ]
     },
     "metadata": {},
     "output_type": "display_data"
    }
   ],
   "source": [
    "sns.barplot(data=df, x='Region', y='Total_Sales', estimator=np.sum, ci=None)\n",
    "plt.title(\"Total Sales by Region\")\n",
    "plt.xticks(rotation=45)\n",
    "plt.tight_layout()\n",
    "plt.show()"
   ]
  },
  {
   "cell_type": "markdown",
   "id": "bd06f22d",
   "metadata": {},
   "source": [
    "#### The total sales by the product category"
   ]
  },
  {
   "cell_type": "code",
   "execution_count": 14,
   "id": "2ef1e352",
   "metadata": {},
   "outputs": [
    {
     "name": "stderr",
     "output_type": "stream",
     "text": [
      "C:\\Users\\PC\\AppData\\Local\\Temp\\ipykernel_10112\\1390210113.py:1: FutureWarning: \n",
      "\n",
      "The `ci` parameter is deprecated. Use `errorbar=None` for the same effect.\n",
      "\n",
      "  sns.barplot(data=df, x='Product_Category', y='Total_Sales', estimator=np.sum, ci=None)\n"
     ]
    },
    {
     "data": {
      "image/png": "[encoded data removed]",
      "text/plain": [
       "<Figure size 640x480 with 1 Axes>"
      ]
     },
     "metadata": {},
     "output_type": "display_data"
    },
    {
     "data": {
      "text/plain": [
       "'\\nPersonal care products have the highest sales and we can increase the availability of them \\n'"
      ]
     },
     "execution_count": 14,
     "metadata": {},
     "output_type": "execute_result"
    }
   ],
   "source": [
    "sns.barplot(data=df, x='Product_Category', y='Total_Sales', estimator=np.sum, ci=None)\n",
    "plt.title(\"Total Sales by Product Category\")\n",
    "plt.xticks(rotation=45)\n",
    "plt.tight_layout()\n",
    "plt.show()\n",
    "\n",
    "\n",
    "'''\n",
    "Personal care products have the highest sales and we can increase the availability of them \n",
    "'''"
   ]
  },
  {
   "cell_type": "markdown",
   "id": "bcfb9c3e",
   "metadata": {},
   "source": [
    "#### the units sold using promotions/ no promotions"
   ]
  },
  {
   "cell_type": "markdown",
   "id": "ad63d81a",
   "metadata": {},
   "source": [
    "\n",
    "The promotion_offer and promotion_type columns have data ambiguity like\n",
    "1. The promotion offer is No but promotion type is applied\n",
    "2. The promotion offer is Yes but no promotion type is mentioned\n"
   ]
  },
  {
   "cell_type": "code",
   "execution_count": 10,
   "id": "d8b8b006",
   "metadata": {},
   "outputs": [],
   "source": [
    "'''\n",
    "The clean promotion type function is created to clear the mismatch between the columns promotion offer-yes/no and promotion type- none/buy1get1/discount/ empty values\n",
    "\n",
    "If the promotion offer is No- then the promotion type is set to None\n",
    "If the promotion offer is Yes -  and has promotions- buy1get1/discount- it is left as it is\n",
    "If the promotion offer is Yes- but has None/ empty values- it is considered as other promotion\n",
    "'''\n",
    "\n",
    "def clean_promotion_type(row):\n",
    "    if row['Promotion_Offer'] == 'No':\n",
    "        return 'None'\n",
    "    elif row['Promotion_Offer'] == 'Yes' and (pd.isnull(row['Promotion_Type']) or row['Promotion_Type'] == 'None' or row['Promotion_Type'] == ''):\n",
    "        return 'Other Promotion'\n",
    "    else:\n",
    "        return row['Promotion_Type']\n",
    "\n",
    "\n",
    "df['Promotion_Type_Cleaned'] = df.apply(clean_promotion_type, axis=1)"
   ]
  },
  {
   "cell_type": "code",
   "execution_count": 16,
   "id": "5c489048",
   "metadata": {},
   "outputs": [
    {
     "data": {
      "text/html": [
       "<div>\n",
       "<style scoped>\n",
       "    .dataframe tbody tr th:only-of-type {\n",
       "        vertical-align: middle;\n",
       "    }\n",
       "\n",
       "    .dataframe tbody tr th {\n",
       "        vertical-align: top;\n",
       "    }\n",
       "\n",
       "    .dataframe thead th {\n",
       "        text-align: right;\n",
       "    }\n",
       "</style>\n",
       "<table border=\"1\" class=\"dataframe\">\n",
       "  <thead>\n",
       "    <tr style=\"text-align: right;\">\n",
       "      <th></th>\n",
       "      <th>Invoice_ID</th>\n",
       "      <th>Invoice_Date</th>\n",
       "      <th>Customer_Segment</th>\n",
       "      <th>Region</th>\n",
       "      <th>Product_ID</th>\n",
       "      <th>Product_Category</th>\n",
       "      <th>Brand</th>\n",
       "      <th>Price_per_Unit</th>\n",
       "      <th>Units_Sold</th>\n",
       "      <th>Promotion_Offer</th>\n",
       "      <th>...</th>\n",
       "      <th>Return_Requested</th>\n",
       "      <th>Customer_Satisfaction</th>\n",
       "      <th>Shelf_Life</th>\n",
       "      <th>Total_Sales</th>\n",
       "      <th>Manufacture_Date</th>\n",
       "      <th>Expiry_Date</th>\n",
       "      <th>Invoice_Month</th>\n",
       "      <th>Invoice_Weekday</th>\n",
       "      <th>Days_To_Expiry</th>\n",
       "      <th>Promotion_Type_Cleaned</th>\n",
       "    </tr>\n",
       "  </thead>\n",
       "  <tbody>\n",
       "    <tr>\n",
       "      <th>10</th>\n",
       "      <td>INV100010</td>\n",
       "      <td>2023-02-14</td>\n",
       "      <td>Consumer</td>\n",
       "      <td>East</td>\n",
       "      <td>PROD657</td>\n",
       "      <td>Snacks</td>\n",
       "      <td>CleanEdge</td>\n",
       "      <td>20.09</td>\n",
       "      <td>25</td>\n",
       "      <td>No</td>\n",
       "      <td>...</td>\n",
       "      <td>No</td>\n",
       "      <td>3.004545</td>\n",
       "      <td>410</td>\n",
       "      <td>502.25</td>\n",
       "      <td>2023-01-02</td>\n",
       "      <td>2024-02-16</td>\n",
       "      <td>2</td>\n",
       "      <td>Tuesday</td>\n",
       "      <td>410</td>\n",
       "      <td>None</td>\n",
       "    </tr>\n",
       "  </tbody>\n",
       "</table>\n",
       "<p>1 rows × 22 columns</p>\n",
       "</div>"
      ],
      "text/plain": [
       "   Invoice_ID Invoice_Date Customer_Segment Region Product_ID  \\\n",
       "10  INV100010   2023-02-14         Consumer   East    PROD657   \n",
       "\n",
       "   Product_Category      Brand  Price_per_Unit  Units_Sold Promotion_Offer  \\\n",
       "10           Snacks  CleanEdge           20.09          25              No   \n",
       "\n",
       "    ... Return_Requested Customer_Satisfaction Shelf_Life  Total_Sales  \\\n",
       "10  ...               No              3.004545        410       502.25   \n",
       "\n",
       "    Manufacture_Date  Expiry_Date Invoice_Month Invoice_Weekday  \\\n",
       "10        2023-01-02   2024-02-16             2         Tuesday   \n",
       "\n",
       "    Days_To_Expiry Promotion_Type_Cleaned  \n",
       "10             410                   None  \n",
       "\n",
       "[1 rows x 22 columns]"
      ]
     },
     "execution_count": 16,
     "metadata": {},
     "output_type": "execute_result"
    }
   ],
   "source": [
    "df[df['Invoice_ID']=='INV100010']"
   ]
  },
  {
   "cell_type": "code",
   "execution_count": 17,
   "id": "f813a8b3",
   "metadata": {},
   "outputs": [
    {
     "data": {
      "image/png": "[encoded data removed]",
      "text/plain": [
       "<Figure size 640x480 with 1 Axes>"
      ]
     },
     "metadata": {},
     "output_type": "display_data"
    }
   ],
   "source": [
    "### Visualisation of promotion type before cleaning/ with  mismatch in promotion offer and promotion type\n",
    "\n",
    "sns.boxplot(data=df, x='Promotion_Type', y='Units_Sold')\n",
    "plt.title(\"Effect of Promotion Type on Units Sold\")\n",
    "plt.xticks(rotation=30)\n",
    "plt.tight_layout()\n",
    "plt.show()"
   ]
  },
  {
   "cell_type": "code",
   "execution_count": null,
   "id": "71bacd6d",
   "metadata": {},
   "outputs": [
    {
     "data": {
      "image/png": "[encoded data removed]",
      "text/plain": [
       "<Figure size 640x480 with 1 Axes>"
      ]
     },
     "metadata": {},
     "output_type": "display_data"
    }
   ],
   "source": [
    "### after data cleaning and mismatch clearing for promotion offer and promotion type\n",
    "sns.boxplot(data=df, x='Promotion_Type_Cleaned', y='Units_Sold')\n",
    "plt.title(\"Effect of Promotion Type on Units Sold\")\n",
    "plt.xticks(rotation=30)\n",
    "plt.tight_layout()\n",
    "plt.show()"
   ]
  },
  {
   "cell_type": "markdown",
   "id": "c211817e",
   "metadata": {},
   "source": [
    "Sales with respect to each brands"
   ]
  },
  {
   "cell_type": "code",
   "execution_count": 19,
   "id": "d4e95848",
   "metadata": {},
   "outputs": [
    {
     "data": {
      "image/png": "[encoded data removed]",
      "text/plain": [
       "<Figure size 640x480 with 1 Axes>"
      ]
     },
     "metadata": {},
     "output_type": "display_data"
    }
   ],
   "source": [
    "sns.barplot(data=df, x='Brand', y='Total_Sales')\n",
    "plt.title(\"Sales for each brand\")\n",
    "plt.tight_layout()\n",
    "plt.show()"
   ]
  },
  {
   "cell_type": "markdown",
   "id": "de52f7e9",
   "metadata": {},
   "source": [
    "#### Customer satisfaction by the customer segment"
   ]
  },
  {
   "cell_type": "code",
   "execution_count": 20,
   "id": "d2a86d85",
   "metadata": {},
   "outputs": [
    {
     "data": {
      "image/png": "[encoded data removed]",
      "text/plain": [
       "<Figure size 640x480 with 1 Axes>"
      ]
     },
     "metadata": {},
     "output_type": "display_data"
    }
   ],
   "source": [
    "sns.barplot(data=df, x='Customer_Segment', y='Customer_Satisfaction')\n",
    "plt.title(\"Customer Satisfaction by Segment\")\n",
    "plt.tight_layout()\n",
    "plt.show()"
   ]
  },
  {
   "cell_type": "markdown",
   "id": "01de941f",
   "metadata": {},
   "source": [
    "### Monthly sales trend"
   ]
  },
  {
   "cell_type": "code",
   "execution_count": 21,
   "id": "9c792cea",
   "metadata": {},
   "outputs": [
    {
     "data": {
      "image/png": "[encoded data removed]",
      "text/plain": [
       "<Figure size 640x480 with 1 Axes>"
      ]
     },
     "metadata": {},
     "output_type": "display_data"
    }
   ],
   "source": [
    "monthly_sales = df.groupby('Invoice_Month')['Total_Sales'].sum().reset_index()\n",
    "sns.lineplot(data=monthly_sales, x='Invoice_Month', y='Total_Sales', marker='o')\n",
    "plt.title(\"Sales Trend by Month\")\n",
    "plt.xticks(monthly_sales['Invoice_Month'])\n",
    "plt.tight_layout()\n",
    "plt.show()"
   ]
  },
  {
   "cell_type": "markdown",
   "id": "0c4952fe",
   "metadata": {},
   "source": [
    "Key insights"
   ]
  },
  {
   "cell_type": "code",
   "execution_count": 22,
   "id": "37bef68d",
   "metadata": {},
   "outputs": [
    {
     "name": "stdout",
     "output_type": "stream",
     "text": [
      "The percent of sales when promotion was given is  49.6\n",
      "The percent of organic sales(without any promotions) is  50.4\n"
     ]
    }
   ],
   "source": [
    "total_records=len(df)\n",
    "\n",
    "Promotions_applied = len((df[df['Promotion_Offer'] == 'Yes']))\n",
    "promotion_percentage = (Promotions_applied/total_records)*100\n",
    "\n",
    "organic_sales = 100-promotion_percentage\n",
    "\n",
    "print(\"The percent of sales when promotion was given is \",promotion_percentage )\n",
    "print(\"The percent of organic sales(without any promotions) is \",organic_sales)"
   ]
  },
  {
   "cell_type": "code",
   "execution_count": 10,
   "id": "377153fe",
   "metadata": {},
   "outputs": [
    {
     "name": "stdout",
     "output_type": "stream",
     "text": [
      "Total Overall Sales (₹): 24517652.28\n",
      "Total Promotion Sales (₹): 11282070.42\n",
      "Total Organic Sales (₹): 13235581.86\n",
      "Promotion Sales Percentage (%): 46.02\n",
      "Organic Sales Percentage (%): 53.98\n"
     ]
    }
   ],
   "source": [
    "# Total number of records\n",
    "total_records = len(df)\n",
    "\n",
    "# Total Sales Value (All sales)\n",
    "overall_total_sales = df['Total_Sales'].sum()\n",
    "\n",
    "# Sales where Promotion was applied\n",
    "promo_sales_total = df[df['Promotion_Offer'] == 1]['Total_Sales'].sum()\n",
    "\n",
    "# Sales where NO Promotion (Organic Sales)\n",
    "nonpromo_sales_total = df[df['Promotion_Offer'] == 0]['Total_Sales'].sum()\n",
    "\n",
    "# Promotion Sales Percentage\n",
    "promo_sales_percentage = (promo_sales_total / overall_total_sales) * 100\n",
    "\n",
    "# Organic Sales Percentage\n",
    "nonpromo_sales_percentage = (nonpromo_sales_total / overall_total_sales) * 100\n",
    "\n",
    "# Print Results\n",
    "print(\"Total Overall Sales (₹):\", overall_total_sales)\n",
    "print(\"Total Promotion Sales (₹):\", promo_sales_total)\n",
    "print(\"Total Organic Sales (₹):\", nonpromo_sales_total)\n",
    "print(\"Promotion Sales Percentage (%):\", round(promo_sales_percentage,2))\n",
    "print(\"Organic Sales Percentage (%):\", round(nonpromo_sales_percentage,2))\n"
   ]
  },
  {
   "cell_type": "markdown",
   "id": "0c376417",
   "metadata": {},
   "source": [
    "### Organic sales play a very important role in the overall sales"
   ]
  },
  {
   "cell_type": "code",
   "execution_count": 23,
   "id": "d4bca5f2",
   "metadata": {},
   "outputs": [
    {
     "data": {
      "text/plain": [
       "Region\n",
       "East     2.892866\n",
       "North    2.926553\n",
       "South    2.914240\n",
       "West     2.951535\n",
       "Name: Customer_Satisfaction, dtype: float64"
      ]
     },
     "execution_count": 23,
     "metadata": {},
     "output_type": "execute_result"
    }
   ],
   "source": [
    "#Customer_Satisfaction average by Region\n",
    "df.groupby('Region')['Customer_Satisfaction'].mean()    "
   ]
  },
  {
   "cell_type": "code",
   "execution_count": 13,
   "id": "df9ccd3a",
   "metadata": {},
   "outputs": [
    {
     "name": "stdout",
     "output_type": "stream",
     "text": [
      "Region\n",
      "East     0.484848\n",
      "North    0.466403\n",
      "South    0.525692\n",
      "West     0.505703\n",
      "Name: Promotion_Offer, dtype: float64\n"
     ]
    }
   ],
   "source": [
    "#Average Promotion usage by Region\n",
    "\n",
    "df['Promotion_Offer'] = df['Promotion_Offer'].map({'Yes': 1, 'No': 0}).astype('int')\n",
    "promotion_offer_by_region = df.groupby('Region')['Promotion_Offer'].mean()\n",
    "print(promotion_offer_by_region)\n"
   ]
  },
  {
   "cell_type": "code",
   "execution_count": 26,
   "id": "9083468f",
   "metadata": {},
   "outputs": [
    {
     "data": {
      "text/plain": [
       "Region\n",
       "East      98.489177\n",
       "North     96.304348\n",
       "South    102.494071\n",
       "West      96.714829\n",
       "Name: Units_Sold, dtype: float64"
      ]
     },
     "execution_count": 26,
     "metadata": {},
     "output_type": "execute_result"
    }
   ],
   "source": [
    "# Units Sold per Invoice by Region\n",
    "df.groupby('Region')['Units_Sold'].mean()"
   ]
  },
  {
   "cell_type": "code",
   "execution_count": 27,
   "id": "d0b22300",
   "metadata": {},
   "outputs": [
    {
     "data": {
      "text/plain": [
       "Region\n",
       "East     5450393.06\n",
       "North    5953617.68\n",
       "South    6883985.99\n",
       "West     6229655.55\n",
       "Name: Total_Sales, dtype: float64"
      ]
     },
     "execution_count": 27,
     "metadata": {},
     "output_type": "execute_result"
    }
   ],
   "source": [
    "## total sales by region\n",
    "\n",
    "df.groupby('Region')['Total_Sales'].sum()"
   ]
  },
  {
   "cell_type": "markdown",
   "id": "efca89e1",
   "metadata": {},
   "source": [
    "### Since East has less customer satisfaction we need to check on the shelf life of the products, promotions and price of the products"
   ]
  },
  {
   "cell_type": "code",
   "execution_count": 34,
   "id": "00fe40eb",
   "metadata": {},
   "outputs": [
    {
     "name": "stdout",
     "output_type": "stream",
     "text": [
      "Promotion Offer Usage (%):\n",
      "Region\n",
      "East     48.484848\n",
      "North    46.640316\n",
      "South    52.569170\n",
      "West     50.570342\n",
      "Name: Promotion_Offer, dtype: float64\n"
     ]
    }
   ],
   "source": [
    "promotion_offer_by_region = df.groupby('Region')['Promotion_Offer'].mean() * 100\n",
    "print(\"Promotion Offer Usage (%):\")\n",
    "print(promotion_offer_by_region)\n"
   ]
  },
  {
   "cell_type": "code",
   "execution_count": 35,
   "id": "eeb345cc",
   "metadata": {},
   "outputs": [
    {
     "name": "stdout",
     "output_type": "stream",
     "text": [
      "\n",
      "Average Price per Unit (₹):\n",
      "Region\n",
      "East     239.664935\n",
      "North    253.033597\n",
      "South    265.474111\n",
      "West     242.131331\n",
      "Name: Price_per_Unit, dtype: float64\n"
     ]
    }
   ],
   "source": [
    "avg_price_by_region = df.groupby('Region')['Price_per_Unit'].mean()\n",
    "print(\"\\nAverage Price per Unit (₹):\")\n",
    "print(avg_price_by_region)\n"
   ]
  },
  {
   "cell_type": "code",
   "execution_count": 36,
   "id": "73669de6",
   "metadata": {},
   "outputs": [
    {
     "name": "stdout",
     "output_type": "stream",
     "text": [
      "\n",
      "Average Shelf Life (days):\n",
      "Region\n",
      "East     429.303030\n",
      "North    437.434783\n",
      "South    426.355731\n",
      "West     407.836502\n",
      "Name: Shelf_Life, dtype: float64\n"
     ]
    }
   ],
   "source": [
    "avg_shelf_life_by_region = df.groupby('Region')['Shelf_Life'].mean()\n",
    "print(\"\\nAverage Shelf Life (days):\")\n",
    "print(avg_shelf_life_by_region)\n"
   ]
  },
  {
   "cell_type": "code",
   "execution_count": 41,
   "id": "e11f06ea",
   "metadata": {},
   "outputs": [
    {
     "name": "stdout",
     "output_type": "stream",
     "text": [
      "\n",
      "Average Customer Satisfaction:\n",
      "Region\n",
      "East     2.892866\n",
      "North    2.926553\n",
      "South    2.914240\n",
      "West     2.951535\n",
      "Name: Customer_Satisfaction, dtype: float64\n"
     ]
    }
   ],
   "source": [
    "customer_satisfaction_by_region = df.groupby('Region')['Customer_Satisfaction'].mean()\n",
    "print(\"\\nAverage Customer Satisfaction:\")\n",
    "print(customer_satisfaction_by_region)\n"
   ]
  },
  {
   "cell_type": "code",
   "execution_count": 38,
   "id": "c663c5b6",
   "metadata": {},
   "outputs": [
    {
     "name": "stdout",
     "output_type": "stream",
     "text": [
      "\n",
      "Customer Segment Distribution (%):\n",
      "Region  Customer_Segment\n",
      "East    Consumer            37.662338\n",
      "        Wholesaler          31.601732\n",
      "        Retailer            30.735931\n",
      "North   Wholesaler          37.944664\n",
      "        Retailer            35.177866\n",
      "        Consumer            26.877470\n",
      "South   Retailer            37.549407\n",
      "        Consumer            31.225296\n",
      "        Wholesaler          31.225296\n",
      "West    Wholesaler          38.022814\n",
      "        Retailer            35.741445\n",
      "        Consumer            26.235741\n",
      "Name: proportion, dtype: float64\n"
     ]
    }
   ],
   "source": [
    "customer_segment_by_region = df.groupby('Region')['Customer_Segment'].value_counts(normalize=True) * 100\n",
    "print(\"\\nCustomer Segment Distribution (%):\")\n",
    "print(customer_segment_by_region)\n"
   ]
  },
  {
   "cell_type": "code",
   "execution_count": 39,
   "id": "8767df0a",
   "metadata": {},
   "outputs": [
    {
     "name": "stdout",
     "output_type": "stream",
     "text": [
      "\n",
      "Product Category Distribution (%):\n",
      "Region  Product_Category\n",
      "East    Beverages           28.138528\n",
      "        Home Care           25.108225\n",
      "        Personal Care       23.376623\n",
      "        Snacks              23.376623\n",
      "North   Personal Care       27.272727\n",
      "        Home Care           26.086957\n",
      "        Beverages           24.901186\n",
      "        Snacks              21.739130\n",
      "South   Home Care           27.667984\n",
      "        Personal Care       24.901186\n",
      "        Snacks              24.505929\n",
      "        Beverages           22.924901\n",
      "West    Beverages           27.376426\n",
      "        Home Care           25.095057\n",
      "        Snacks              25.095057\n",
      "        Personal Care       22.433460\n",
      "Name: proportion, dtype: float64\n"
     ]
    }
   ],
   "source": [
    "product_category_by_region = df.groupby('Region')['Product_Category'].value_counts(normalize=True) * 100\n",
    "print(\"\\nProduct Category Distribution (%):\")\n",
    "print(product_category_by_region)\n"
   ]
  },
  {
   "cell_type": "markdown",
   "id": "612b7fef",
   "metadata": {},
   "source": [
    "### The sales are low in january, september, november"
   ]
  },
  {
   "cell_type": "code",
   "execution_count": 42,
   "id": "7fd3247a",
   "metadata": {},
   "outputs": [
    {
     "name": "stdout",
     "output_type": "stream",
     "text": [
      "Promotion Offer Usage by Month (%):\n",
      "Invoice_Month\n",
      "1     48.684211\n",
      "2     45.348837\n",
      "3     56.164384\n",
      "4     56.976744\n",
      "5     45.714286\n",
      "6     42.857143\n",
      "7     52.777778\n",
      "8     50.526316\n",
      "9     49.230769\n",
      "10    47.916667\n",
      "11    47.435897\n",
      "12    52.747253\n",
      "Name: Promotion_Offer, dtype: float64\n"
     ]
    }
   ],
   "source": [
    "promotion_offer_by_month = df.groupby('Invoice_Month')['Promotion_Offer'].mean() * 100\n",
    "print(\"Promotion Offer Usage by Month (%):\")\n",
    "print(promotion_offer_by_month)"
   ]
  },
  {
   "cell_type": "code",
   "execution_count": 43,
   "id": "103786b6",
   "metadata": {},
   "outputs": [
    {
     "name": "stdout",
     "output_type": "stream",
     "text": [
      "\n",
      "Average Total Sales per Invoice by Month (₹):\n",
      "Invoice_Month\n",
      "1     20530.708421\n",
      "2     24567.940581\n",
      "3     25379.223973\n",
      "4     24639.810698\n",
      "5     23253.250571\n",
      "6     28126.697013\n",
      "7     28466.203611\n",
      "8     25678.325158\n",
      "9     22718.103077\n",
      "10    25179.754167\n",
      "11    20405.908205\n",
      "12    25173.846264\n",
      "Name: Total_Sales, dtype: float64\n"
     ]
    }
   ],
   "source": [
    "avg_sales_by_month = df.groupby('Invoice_Month')['Total_Sales'].mean()\n",
    "print(\"\\nAverage Total Sales per Invoice by Month (₹):\")\n",
    "print(avg_sales_by_month)\n"
   ]
  },
  {
   "cell_type": "code",
   "execution_count": 44,
   "id": "0d3e3b67",
   "metadata": {},
   "outputs": [
    {
     "name": "stdout",
     "output_type": "stream",
     "text": [
      "\n",
      "Average Units Sold per Invoice by Month:\n",
      "Invoice_Month\n",
      "1      89.078947\n",
      "2     101.616279\n",
      "3      99.205479\n",
      "4     102.476744\n",
      "5      98.619048\n",
      "6     105.662338\n",
      "7     101.069444\n",
      "8      98.842105\n",
      "9      91.861538\n",
      "10    103.302083\n",
      "11     89.897436\n",
      "12     97.373626\n",
      "Name: Units_Sold, dtype: float64\n"
     ]
    }
   ],
   "source": [
    "avg_units_by_month = df.groupby('Invoice_Month')['Units_Sold'].mean()\n",
    "print(\"\\nAverage Units Sold per Invoice by Month:\")\n",
    "print(avg_units_by_month)\n"
   ]
  },
  {
   "cell_type": "code",
   "execution_count": 45,
   "id": "faf8b2c1",
   "metadata": {},
   "outputs": [
    {
     "name": "stdout",
     "output_type": "stream",
     "text": [
      "\n",
      "Product Category Distribution by Month (%):\n",
      "Invoice_Month  Product_Category\n",
      "1              Snacks              30.263158\n",
      "               Home Care           23.684211\n",
      "               Personal Care       23.684211\n",
      "               Beverages           22.368421\n",
      "2              Beverages           30.232558\n",
      "               Snacks              25.581395\n",
      "               Home Care           24.418605\n",
      "               Personal Care       19.767442\n",
      "3              Snacks              34.246575\n",
      "               Home Care           24.657534\n",
      "               Personal Care       24.657534\n",
      "               Beverages           16.438356\n",
      "4              Home Care           32.558140\n",
      "               Personal Care       26.744186\n",
      "               Beverages           25.581395\n",
      "               Snacks              15.116279\n",
      "5              Beverages           29.523810\n",
      "               Home Care           24.761905\n",
      "               Snacks              24.761905\n",
      "               Personal Care       20.952381\n",
      "6              Personal Care       32.467532\n",
      "               Beverages           28.571429\n",
      "               Home Care           23.376623\n",
      "               Snacks              15.584416\n",
      "7              Beverages           27.777778\n",
      "               Personal Care       25.000000\n",
      "               Snacks              25.000000\n",
      "               Home Care           22.222222\n",
      "8              Snacks              27.368421\n",
      "               Home Care           26.315789\n",
      "               Personal Care       26.315789\n",
      "               Beverages           20.000000\n",
      "9              Home Care           33.846154\n",
      "               Beverages           26.153846\n",
      "               Personal Care       23.076923\n",
      "               Snacks              16.923077\n",
      "10             Home Care           33.333333\n",
      "               Personal Care       27.083333\n",
      "               Beverages           26.041667\n",
      "               Snacks              13.541667\n",
      "11             Beverages           29.487179\n",
      "               Snacks              28.205128\n",
      "               Home Care           25.641026\n",
      "               Personal Care       16.666667\n",
      "12             Snacks              28.571429\n",
      "               Personal Care       27.472527\n",
      "               Beverages           26.373626\n",
      "               Home Care           17.582418\n",
      "Name: proportion, dtype: float64\n"
     ]
    }
   ],
   "source": [
    "product_category_by_month = df.groupby('Invoice_Month')['Product_Category'].value_counts(normalize=True) * 100\n",
    "print(\"\\nProduct Category Distribution by Month (%):\")\n",
    "print(product_category_by_month)\n"
   ]
  },
  {
   "cell_type": "markdown",
   "id": "512885c4",
   "metadata": {},
   "source": [
    "## which brand performs well and within which category"
   ]
  },
  {
   "cell_type": "code",
   "execution_count": null,
   "id": "ea92fcad",
   "metadata": {},
   "outputs": [],
   "source": [
    "homecare_df = df[df['Product_Category'] == 'Home Care']\n"
   ]
  },
  {
   "cell_type": "code",
   "execution_count": 47,
   "id": "722498c4",
   "metadata": {},
   "outputs": [
    {
     "name": "stdout",
     "output_type": "stream",
     "text": [
      "           Units_Sold  Total_Sales\n",
      "Brand                             \n",
      "FreshMint        7583   1760180.80\n",
      "SipUp            7174   1672247.20\n",
      "Glorix           5799   1410619.91\n",
      "CleanEdge        5379   1399881.75\n"
     ]
    }
   ],
   "source": [
    "homecare_brand_performance = homecare_df.groupby('Brand').agg({\n",
    "    'Units_Sold': 'sum',\n",
    "    'Total_Sales': 'sum'\n",
    "}).sort_values(by='Units_Sold', ascending=False)\n",
    "\n",
    "print(homecare_brand_performance)\n"
   ]
  },
  {
   "cell_type": "code",
   "execution_count": 48,
   "id": "6a9118dd",
   "metadata": {},
   "outputs": [
    {
     "name": "stdout",
     "output_type": "stream",
     "text": [
      "\n",
      "Promotion Offer Usage by Brand (%):\n",
      "Brand\n",
      "CleanEdge    51.785714\n",
      "FreshMint    48.484848\n",
      "Glorix       48.529412\n",
      "SipUp        44.285714\n",
      "Name: Promotion_Offer, dtype: float64\n"
     ]
    }
   ],
   "source": [
    "promotion_by_brand = homecare_df.groupby('Brand')['Promotion_Offer'].mean() * 100\n",
    "print(\"\\nPromotion Offer Usage by Brand (%):\")\n",
    "print(promotion_by_brand)\n"
   ]
  },
  {
   "cell_type": "code",
   "execution_count": 54,
   "id": "8134e8d9",
   "metadata": {},
   "outputs": [
    {
     "name": "stdout",
     "output_type": "stream",
     "text": [
      "\n",
      "Region-wise Home Care Brand Sales:\n",
      "Brand   CleanEdge  FreshMint  Glorix  SipUp\n",
      "Region                                     \n",
      "East         1352       1456    1840   1569\n",
      "North        1106       1412    1409   1857\n",
      "South        2099       2687     921   1537\n",
      "West          822       2028    1629   2211\n"
     ]
    }
   ],
   "source": [
    "homecare_region_brand = homecare_df.groupby(['Region', 'Brand'])['Units_Sold'].sum().unstack().fillna(0)\n",
    "print(\"\\nRegion-wise Home Care Brand Sales:\")\n",
    "print(homecare_region_brand)\n"
   ]
  },
  {
   "cell_type": "code",
   "execution_count": 55,
   "id": "b21de525",
   "metadata": {},
   "outputs": [
    {
     "name": "stdout",
     "output_type": "stream",
     "text": [
      "\n",
      "Region-wise Brand Sales:\n",
      "Brand   CleanEdge  FreshMint  Glorix  SipUp\n",
      "Region                                     \n",
      "East         6842       4705    5657   5547\n",
      "North        5850       6708    6097   5710\n",
      "South        7841       7211    5108   5771\n",
      "West         4760       6804    7452   6420\n"
     ]
    }
   ],
   "source": [
    "region_brand = df.groupby(['Region', 'Brand'])['Units_Sold'].sum().unstack().fillna(0)\n",
    "print(\"\\nRegion-wise Brand Sales:\")\n",
    "print(region_brand)\n"
   ]
  },
  {
   "cell_type": "code",
   "execution_count": 50,
   "id": "a3c80d2e",
   "metadata": {},
   "outputs": [
    {
     "name": "stdout",
     "output_type": "stream",
     "text": [
      "\n",
      "Month-wise Home Care Brand Sales:\n",
      "Brand          CleanEdge  FreshMint  Glorix  SipUp\n",
      "Invoice_Month                                     \n",
      "1                    352        636      81    504\n",
      "2                    536        608     481    628\n",
      "3                    227        620     645    485\n",
      "4                    523       1006     396    767\n",
      "5                    618        824     657    633\n",
      "6                    773        359     618    225\n",
      "7                    116        412     438    138\n",
      "8                    422        739     479   1073\n",
      "9                    235        733     313    789\n",
      "10                   511       1063     942   1036\n",
      "11                   616        320     199    766\n",
      "12                   450        263     550    130\n"
     ]
    }
   ],
   "source": [
    "homecare_month_brand = homecare_df.groupby(['Invoice_Month', 'Brand'])['Units_Sold'].sum().unstack().fillna(0)\n",
    "print(\"\\nMonth-wise Home Care Brand Sales:\")\n",
    "print(homecare_month_brand)\n"
   ]
  },
  {
   "cell_type": "code",
   "execution_count": 51,
   "id": "0c19047e",
   "metadata": {},
   "outputs": [
    {
     "name": "stdout",
     "output_type": "stream",
     "text": [
      "        Brand Region  Units_Sold\n",
      "2   CleanEdge  South        7841\n",
      "6   FreshMint  South        7211\n",
      "11     Glorix   West        7452\n",
      "15      SipUp   West        6420\n"
     ]
    }
   ],
   "source": [
    "# Region to sum Units Sold\n",
    "brand_region_units = df.groupby(['Brand', 'Region'])['Units_Sold'].sum().reset_index()\n",
    "\n",
    "# the Region with maximum Units Sold\n",
    "strongest_region_per_brand = brand_region_units.loc[brand_region_units.groupby('Brand')['Units_Sold'].idxmax()]\n",
    "\n",
    "print(strongest_region_per_brand)\n"
   ]
  },
  {
   "cell_type": "markdown",
   "id": "5c8707b2",
   "metadata": {},
   "source": [
    "The summaries are given in the powerpoint presentation"
   ]
  },
  {
   "cell_type": "markdown",
   "id": "9a8f8c35",
   "metadata": {},
   "source": [
    "The average customer satisfaction rate is 3 "
   ]
  },
  {
   "cell_type": "code",
   "execution_count": 7,
   "id": "b16418a6",
   "metadata": {},
   "outputs": [
    {
     "data": {
      "text/plain": [
       "Customer_Segment\n",
       "Consumer      248.446370\n",
       "Retailer      264.718109\n",
       "Wholesaler    237.240575\n",
       "Name: Price_per_Unit, dtype: float64"
      ]
     },
     "execution_count": 7,
     "metadata": {},
     "output_type": "execute_result"
    }
   ],
   "source": [
    "df.groupby('Customer_Segment')['Price_per_Unit'].mean()"
   ]
  },
  {
   "cell_type": "code",
   "execution_count": 8,
   "id": "90bbb8ef",
   "metadata": {},
   "outputs": [
    {
     "data": {
      "text/plain": [
       "Customer_Segment\n",
       "Consumer       96.356436\n",
       "Retailer      102.581662\n",
       "Wholesaler     96.224138\n",
       "Name: Units_Sold, dtype: float64"
      ]
     },
     "execution_count": 8,
     "metadata": {},
     "output_type": "execute_result"
    }
   ],
   "source": [
    "df.groupby('Customer_Segment')['Units_Sold'].mean()"
   ]
  },
  {
   "cell_type": "code",
   "execution_count": 22,
   "id": "5bdb3d87",
   "metadata": {},
   "outputs": [
    {
     "name": "stdout",
     "output_type": "stream",
     "text": [
      "Customer_Segment\n",
      "Consumer      3.004545\n",
      "Retailer      2.884000\n",
      "Wholesaler    2.888889\n",
      "Name: Customer_Satisfaction, dtype: float64\n"
     ]
    }
   ],
   "source": [
    "# Average Customer Satisfaction Rating by Customer Segment\n",
    "rating_by_segment = df.groupby('Customer_Segment')['Customer_Satisfaction'].mean()\n",
    "\n",
    "print(rating_by_segment)\n"
   ]
  },
  {
   "cell_type": "code",
   "execution_count": 17,
   "id": "621d573d",
   "metadata": {},
   "outputs": [
    {
     "name": "stdout",
     "output_type": "stream",
     "text": [
      "Customer_Segment\n",
      "Consumer      138\n",
      "Retailer      185\n",
      "Wholesaler    173\n",
      "dtype: int64\n"
     ]
    }
   ],
   "source": [
    "# Group by Customer_Segment and Promotion_Offer\n",
    "promotion_by_segment = df[df['Promotion_Offer'] == 1].groupby('Customer_Segment').size()\n",
    "\n",
    "print(promotion_by_segment)\n"
   ]
  },
  {
   "cell_type": "markdown",
   "id": "fff5df01",
   "metadata": {},
   "source": [
    "### Consumers were given less promotion offers. Retailers "
   ]
  },
  {
   "cell_type": "code",
   "execution_count": null,
   "id": "b6057f6d",
   "metadata": {},
   "outputs": [],
   "source": []
  }
 ],
 "metadata": {
  "kernelspec": {
   "display_name": "varshini",
   "language": "python",
   "name": "python3"
  },
  "language_info": {
   "codemirror_mode": {
    "name": "ipython",
    "version": 3
   },
   "file_extension": ".py",
   "mimetype": "text/x-python",
   "name": "python",
   "nbconvert_exporter": "python",
   "pygments_lexer": "ipython3",
   "version": "3.9.21"
  }
 },
 "nbformat": 4,
 "nbformat_minor": 5
}
